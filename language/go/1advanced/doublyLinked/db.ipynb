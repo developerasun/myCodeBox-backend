{
 "cells": [
  {
   "cell_type": "code",
   "execution_count": 9,
   "id": "59c1faac",
   "metadata": {},
   "outputs": [],
   "source": [
    "import \"fmt\"\n",
    "import \"container/list\"\n",
    "\n",
    "func main(){\n",
    "    var x list.List\n",
    "    x.PushBack(1)\n",
    "    x.PushBack(2)\n",
    "    x.PushBack(3)\n",
    "    \n",
    "    for e := x.Front(); e != nil; e=e.Next(){ \n",
    "        fmt.Println(e.Value.(int))\n",
    "    }\n",
    "}"
   ]
  },
  {
   "cell_type": "code",
   "execution_count": null,
   "id": "b76bc305",
   "metadata": {},
   "outputs": [],
   "source": []
  },
  {
   "cell_type": "code",
   "execution_count": null,
   "id": "8e5cea04",
   "metadata": {},
   "outputs": [],
   "source": []
  },
  {
   "cell_type": "code",
   "execution_count": null,
   "id": "19f18b74",
   "metadata": {},
   "outputs": [],
   "source": []
  }
 ],
 "metadata": {
  "kernelspec": {
   "display_name": "Go",
   "language": "go",
   "name": "gophernotes"
  },
  "language_info": {
   "codemirror_mode": "",
   "file_extension": ".go",
   "mimetype": "",
   "name": "go",
   "nbconvert_exporter": "",
   "pygments_lexer": "",
   "version": "go1.16.5"
  }
 },
 "nbformat": 4,
 "nbformat_minor": 5
}
